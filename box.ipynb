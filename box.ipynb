{
 "cells": [
  {
   "cell_type": "code",
   "execution_count": 1,
   "metadata": {},
   "outputs": [
    {
     "name": "stderr",
     "output_type": "stream",
     "text": [
      "C:\\Users\\Andres\\AppData\\Local\\Temp\\ipykernel_40232\\4080736814.py:1: DeprecationWarning: \n",
      "Pyarrow will become a required dependency of pandas in the next major release of pandas (pandas 3.0),\n",
      "(to allow more performant data types, such as the Arrow string type, and better interoperability with other libraries)\n",
      "but was not found to be installed on your system.\n",
      "If this would cause problems for you,\n",
      "please provide us feedback at https://github.com/pandas-dev/pandas/issues/54466\n",
      "        \n",
      "  import pandas as pd\n"
     ]
    }
   ],
   "source": [
    "import pandas as pd"
   ]
  },
  {
   "cell_type": "code",
   "execution_count": 4,
   "metadata": {},
   "outputs": [],
   "source": [
    "points = {\n",
    "    'x': [], \n",
    "    'y': [],\n",
    "    'z': []\n",
    "}\n",
    "\n",
    "for x in range(300):\n",
    "    for y in range(300):\n",
    "        for z in range(300):\n",
    "            count = 0\n",
    "            # Adjusting each coordinate by subtracting 150\n",
    "            adjusted_x = x - 150\n",
    "            adjusted_y = y - 150\n",
    "            adjusted_z = z - 150\n",
    "\n",
    "            if adjusted_x % 23 == 0:\n",
    "                count += 1\n",
    "            if adjusted_y % 23 == 0:\n",
    "                count += 1\n",
    "            if adjusted_z % 23 == 0:\n",
    "                count += 1\n",
    "            \n",
    "            if count >= 2:\n",
    "                points['x'].append(adjusted_x)\n",
    "                points['y'].append(adjusted_y)\n",
    "                points['z'].append(adjusted_z)\n"
   ]
  },
  {
   "cell_type": "code",
   "execution_count": 5,
   "metadata": {},
   "outputs": [],
   "source": [
    "df=pd.DataFrame(points)\n",
    "df.to_csv('Grid_Procedural.csv', index=False)"
   ]
  }
 ],
 "metadata": {
  "kernelspec": {
   "display_name": "Python 3",
   "language": "python",
   "name": "python3"
  },
  "language_info": {
   "codemirror_mode": {
    "name": "ipython",
    "version": 3
   },
   "file_extension": ".py",
   "mimetype": "text/x-python",
   "name": "python",
   "nbconvert_exporter": "python",
   "pygments_lexer": "ipython3",
   "version": "3.11.7"
  }
 },
 "nbformat": 4,
 "nbformat_minor": 2
}
